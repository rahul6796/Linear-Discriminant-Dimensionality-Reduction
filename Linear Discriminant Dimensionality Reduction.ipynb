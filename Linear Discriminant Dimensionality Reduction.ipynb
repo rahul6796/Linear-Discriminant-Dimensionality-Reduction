{
 "cells": [
  {
   "cell_type": "markdown",
   "metadata": {},
   "source": [
    "# Linear Discriminant Dimensionality Reduction"
   ]
  },
  {
   "cell_type": "markdown",
   "metadata": {},
   "source": [
    "# Content"
   ]
  },
  {
   "cell_type": "markdown",
   "metadata": {},
   "source": [
    "$1$.Fisher Criterion"
   ]
  },
  {
   "cell_type": "markdown",
   "metadata": {},
   "source": [
    "$2$.Within Group Variability(Distance)."
   ]
  },
  {
   "cell_type": "markdown",
   "metadata": {},
   "source": [
    "$3$.Between Group Variability(Distance)."
   ]
  },
  {
   "cell_type": "markdown",
   "metadata": {},
   "source": [
    "# 1 .Fisher Criterion"
   ]
  },
  {
   "cell_type": "markdown",
   "metadata": {},
   "source": [
    "Fisher Criterion plays an important role in dimensionality reduction. it aims at finding a feature representation by which the ${Within-Class-Distance}$ is minimized and the ${Between-class- Distance}$ is Maximized."
   ]
  },
  {
   "cell_type": "markdown",
   "metadata": {},
   "source": [
    "Based on Fisher Criterion two representative methods have been proposed."
   ]
  },
  {
   "cell_type": "markdown",
   "metadata": {},
   "source": [
    "One is ${Fisher-Score}$ which is a feature selection method. The other is ${Linear -Discriminant-Analysis}$ which is a subspace learning method."
   ]
  },
  {
   "cell_type": "markdown",
   "metadata": {},
   "source": [
    "The key\n",
    "motivation is that, although it is based on Fisher criterion, Fisher score is not\n",
    "able to do feature combination such as LDA. The features selected by Fisher\n",
    "score are a subset of the original features. However, as we mentioned before,\n",
    "the transformed features may be more discriminative than the original features.\n",
    "On the other hand, although LDA admits feature combination, it transforms\n",
    "all the original features rather than only those useful ones as in Fisher score."
   ]
  },
  {
   "cell_type": "markdown",
   "metadata": {},
   "source": [
    "Based on the above motivation, we propose a unified framework, namely Linear Discriminant Dimensionality Reduction (LDDR), integrating Fisher score\n",
    "and LDA."
   ]
  },
  {
   "cell_type": "markdown",
   "metadata": {},
   "source": [
    "${Note}$."
   ]
  },
  {
   "cell_type": "markdown",
   "metadata": {},
   "source": [
    "We need to find such kind of unit vector ${\\vec {W}}$ such that, all points belonging to single class when projected on that vector, should givne as Minimum variances as possible but at same time between  class varinaces should be as maximum as possible( that mean we want to increase the gap)."
   ]
  },
  {
   "cell_type": "markdown",
   "metadata": {},
   "source": [
    "let's say that for any ${i}^{th}$ example belonging to ${0}$ class is ${X}_{i}^{0}$"
   ]
  },
  {
   "cell_type": "markdown",
   "metadata": {},
   "source": [
    "\n",
    "\\begin{bmatrix}\n",
    "{X}_1^{0} \\\\ {X}_2^{0} \\\\ .. \\\\ .. \\\\ .. {X}_{N_0}^{0}\n",
    "\\end{bmatrix}"
   ]
  },
  {
   "cell_type": "code",
   "execution_count": null,
   "metadata": {},
   "outputs": [],
   "source": []
  }
 ],
 "metadata": {
  "kernelspec": {
   "display_name": "Python 3",
   "language": "python",
   "name": "python3"
  },
  "language_info": {
   "codemirror_mode": {
    "name": "ipython",
    "version": 3
   },
   "file_extension": ".py",
   "mimetype": "text/x-python",
   "name": "python",
   "nbconvert_exporter": "python",
   "pygments_lexer": "ipython3",
   "version": "3.7.3"
  }
 },
 "nbformat": 4,
 "nbformat_minor": 2
}
